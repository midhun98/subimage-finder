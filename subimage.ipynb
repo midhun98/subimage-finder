{
 "cells": [
  {
   "cell_type": "code",
   "execution_count": 4,
   "metadata": {},
   "outputs": [
    {
     "name": "stdout",
     "output_type": "stream",
     "text": [
      "1136 398\n",
      "Duration: 0:00:40.035094\n"
     ]
    }
   ],
   "source": [
    "from datetime import datetime\n",
    "start_time = datetime.now()\n",
    "\n",
    "import numpy as np\n",
    "from PIL import Image\n",
    "\n",
    "full_image = Image.open(r'full_image.bmp')\n",
    "full_np_img = np.array(full_image)\n",
    "\n",
    "sub_image = Image.open(r'sub_image.bmp')\n",
    "sub_np_img = np.array(sub_image)\n",
    "\n",
    "smallwidth,smallheight=sub_image.size\n",
    "largewidth,largeheight=full_image.size\n",
    "\n",
    "width=largewidth-smallwidth+1\n",
    "height=largeheight-smallheight+1\n",
    "\n",
    "for x in range(0,width):\n",
    "    for y in range(0,height):\n",
    "        x2 = x + smallwidth\n",
    "        y2 = y + smallheight\n",
    "        img = full_np_img[y:y2, x:x2]\n",
    "        ifimg = (img == sub_np_img)\n",
    "        if ifimg.all():\n",
    "            print(x,y)\n",
    "            \n",
    "end_time = datetime.now()\n",
    "print('Duration: {}'.format(end_time - start_time))"
   ]
  },
  {
   "cell_type": "code",
   "execution_count": 45,
   "metadata": {},
   "outputs": [
    {
     "data": {
      "text/plain": [
       "(206, 59)"
      ]
     },
     "execution_count": 45,
     "metadata": {},
     "output_type": "execute_result"
    }
   ],
   "source": [
    "smallwidth,smallheight"
   ]
  },
  {
   "cell_type": "code",
   "execution_count": 6,
   "metadata": {},
   "outputs": [
    {
     "name": "stdout",
     "output_type": "stream",
     "text": [
      "(398, 1136)\n"
     ]
    }
   ],
   "source": [
    "import cv2  \n",
    "import numpy as np  \n",
    "image = cv2.imread(\"full_image.png\")  \n",
    "template = cv2.imread(\"sub_image.png\")  \n",
    "result = cv2.matchTemplate(image,template,cv2.TM_CCOEFF_NORMED)  \n",
    "print (np.unravel_index(result.argmax(),result.shape))"
   ]
  },
  {
   "cell_type": "code",
   "execution_count": null,
   "metadata": {},
   "outputs": [],
   "source": []
  }
 ],
 "metadata": {
  "kernelspec": {
   "display_name": "Python 3",
   "language": "python",
   "name": "python3"
  },
  "language_info": {
   "codemirror_mode": {
    "name": "ipython",
    "version": 3
   },
   "file_extension": ".py",
   "mimetype": "text/x-python",
   "name": "python",
   "nbconvert_exporter": "python",
   "pygments_lexer": "ipython3",
   "version": "3.8.5"
  }
 },
 "nbformat": 4,
 "nbformat_minor": 4
}
